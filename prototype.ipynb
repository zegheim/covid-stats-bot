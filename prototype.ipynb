{
 "cells": [
  {
   "cell_type": "code",
   "execution_count": 1,
   "metadata": {},
   "outputs": [],
   "source": [
    "import imgkit\n",
    "import logging\n",
    "import numpy as np\n",
    "import pandas as pd\n",
    "import requests\n",
    "import seaborn as sns\n",
    "\n",
    "from requests_toolbelt import sessions\n",
    "logging.basicConfig(\n",
    "    filename=\"logs/bot.log\",\n",
    "    format=\"%(asctime)s - [%(levelname)s] - %(message)s\", \n",
    "    level=logging.INFO\n",
    ")"
   ]
  },
  {
   "cell_type": "code",
   "execution_count": 2,
   "metadata": {},
   "outputs": [],
   "source": [
    "def get_endpoint(endpoint, params=None):\n",
    "    with sessions.BaseUrlSession(base_url=\"https://api.covid19api.com/\") as session:\n",
    "        try:\n",
    "            response = session.get(endpoint)\n",
    "            response.raise_for_status()\n",
    "            logging.info(f\"Request successful for endpoint={endpoint}.\")\n",
    "        except requests.exceptions.HTTPError as e:\n",
    "            logging.error(f\"{e}. Retrying...\")\n",
    "            response = get_endpoint(endpoint)\n",
    "    return response\n",
    "\n",
    "def parse_countries(countries, sort_key, ascending=True):\n",
    "    table = pd.DataFrame.from_dict(countries)\n",
    "    table.drop(columns=[\"CountryCode\", \"Date\", \"Slug\"], inplace=True)\n",
    "    cols = [table.columns[idx] for idx in [0, 4, 1, 5, 2, 6, 3]]\n",
    "    table = table[cols]\n",
    "    return table.sort_values(sort_key, ascending=ascending)\n",
    "\n",
    "def split_table(table, size=10):\n",
    "    return [table[i:i+size] for i in np.arange(0, table.shape[0], size)]\n",
    "\n",
    "def style_table(table, palette):\n",
    "    cm = sns.light_palette(palette, as_cmap=True)\n",
    "    formatter = {col: \"{:,d}\" for col in table.dtypes[tab.dtypes == np.int64].index}\n",
    "    table_styles = [\n",
    "        {\n",
    "            'selector': '',\n",
    "            'props': [\n",
    "                ('width', '100%'),\n",
    "                ('align', 'center')\n",
    "            ]\n",
    "        },\n",
    "        {\n",
    "            'selector': 'th, td, .col0', \n",
    "            'props': [\n",
    "                ('background-color', '#ffffff'),\n",
    "                ('color', '#000000'),\n",
    "                ('text-align', 'left'),\n",
    "                ('border', '0px'),\n",
    "                ('font-family', 'Arial, Helvetica, sans-serif'),\n",
    "                ('padding', '0.25em')                    \n",
    "            ]\n",
    "        },\n",
    "    ]\n",
    "    style = table.style \\\n",
    "                 .format(formatter) \\\n",
    "                 .background_gradient(cmap=cm) \\\n",
    "                 .set_table_styles(table_styles)\n",
    "    \n",
    "    return style.hide_index().render()"
   ]
  },
  {
   "cell_type": "code",
   "execution_count": 3,
   "metadata": {},
   "outputs": [],
   "source": [
    "response = get_endpoint(\"/summary\")\n",
    "date = response.json()[\"Date\"]\n",
    "table = parse_countries(response.json()[\"Countries\"], \"TotalConfirmed\", ascending=False)\n",
    "tables = split_table(table, size=31)\n",
    "for idx, tab in enumerate(tables, 1):\n",
    "    html = style_table(tab, \"red\")\n",
    "    imgkit.from_string(html, f\"output/table_{idx}.png\", options={'quiet': ''})"
   ]
  }
 ],
 "metadata": {
  "kernelspec": {
   "display_name": "Python 3.7.3 64-bit ('base': conda)",
   "language": "python",
   "name": "python37364bitbaseconda2f9f0b64b61e4d1c8af257dbf7ebbcb6"
  },
  "language_info": {
   "codemirror_mode": {
    "name": "ipython",
    "version": 3
   },
   "file_extension": ".py",
   "mimetype": "text/x-python",
   "name": "python",
   "nbconvert_exporter": "python",
   "pygments_lexer": "ipython3",
   "version": "3.7.3"
  }
 },
 "nbformat": 4,
 "nbformat_minor": 2
}
